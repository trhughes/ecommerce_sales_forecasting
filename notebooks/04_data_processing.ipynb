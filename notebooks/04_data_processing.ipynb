{
 "cells": [
  {
   "cell_type": "code",
   "execution_count": 1,
   "metadata": {},
   "outputs": [],
   "source": [
    "# Libraries\n",
    "import numpy as np\n",
    "import pandas as pd\n",
    "import seaborn as sns\n",
    "import matplotlib.pyplot as plt\n",
    "from category_encoders.hashing import HashingEncoder\n",
    "from sklearn.tree import DecisionTreeRegressor"
   ]
  },
  {
   "cell_type": "code",
   "execution_count": 2,
   "metadata": {},
   "outputs": [],
   "source": [
    "# Load dataset\n",
    "items = pd.read_csv(\"../data/preprocessed/items_merged.txt\")"
   ]
  },
  {
   "cell_type": "code",
   "execution_count": 3,
   "metadata": {},
   "outputs": [],
   "source": [
    "# Define predictors and target variable\n",
    "X = items.drop(['sold_quantity'], axis=1)\n",
    "y = items[\"sold_quantity\"]"
   ]
  },
  {
   "cell_type": "code",
   "execution_count": 4,
   "metadata": {},
   "outputs": [],
   "source": [
    "def retrieve_categorical(dataframe):\n",
    "    \"\"\"Returns a list containing the categorical features of\n",
    "    the given dataframe.\"\"\"\n",
    "    columns = list(dataframe.columns)\n",
    "    numerical_columns = list(dataframe._get_numeric_data().columns)\n",
    "    categorical_columns = list(set(columns) - set(numerical_columns))\n",
    "    categorical_columns.sort()\n",
    "    return categorical_columns"
   ]
  },
  {
   "cell_type": "code",
   "execution_count": 5,
   "metadata": {},
   "outputs": [],
   "source": [
    "# Remove categorical columns with very high cardinality or with only\n",
    "# one value\n",
    "categorical = retrieve_categorical(X)\n",
    "for column in categorical:\n",
    "    if len(X[column].unique()) > 0.5*X.shape[0] or \\\n",
    "        len(X[column].unique()) == 1:\n",
    "        X = X.drop(columns=column)"
   ]
  },
  {
   "cell_type": "code",
   "execution_count": 6,
   "metadata": {},
   "outputs": [],
   "source": [
    "# Identify similar categorical columns and group them in lists\n",
    "categorical = retrieve_categorical(X)\n",
    "\n",
    "category_columns = [column for column in retrieve_categorical(X) \n",
    "                    if \"category\" in column or \"catalog\" in column\n",
    "                   ]\n",
    "\n",
    "date_columns = [column for column in retrieve_categorical(X) \n",
    "                if \"date\" in column \n",
    "                or (\"time\" in column and \"reputation\" not in column)\n",
    "                or \"last_updated\" in column\n",
    "               ]\n",
    "\n",
    "location_columns = [column for column in retrieve_categorical(X) \n",
    "                    if \"address\" in column]\n",
    "\n",
    "eshop_columns = [column for column in retrieve_categorical(X) \n",
    "                 if \"eshop\" in column]\n",
    "\n",
    "reputation_columns = [column for column in retrieve_categorical(X) \n",
    "                      if \"reputation\" in column]\n",
    "\n",
    "shipping_columns = [column for column in retrieve_categorical(X) \n",
    "                    if \"shipping\" in column]"
   ]
  },
  {
   "cell_type": "code",
   "execution_count": 7,
   "metadata": {},
   "outputs": [],
   "source": [
    "# Process date columns   \n",
    "for column in date_columns:\n",
    "    X[column] = pd.to_datetime(X[column])\n",
    "    X[column+\"_day\"] = X[column].dt.day\n",
    "    X[column+\"_month\"] = X[column].dt.month\n",
    "    X[column+\"_year\"] = X[column].dt.year\n",
    "\n",
    "X = X.drop(columns=date_columns)"
   ]
  },
  {
   "cell_type": "code",
   "execution_count": 8,
   "metadata": {
    "scrolled": true
   },
   "outputs": [
    {
     "name": "stderr",
     "output_type": "stream",
     "text": [
      "C:\\Users\\tomas\\anaconda3\\envs\\meli\\lib\\site-packages\\category_encoders\\utils.py:21: FutureWarning: is_categorical is deprecated and will be removed in a future version.  Use is_categorical_dtype instead\n",
      "  elif pd.api.types.is_categorical(cols):\n"
     ]
    }
   ],
   "source": [
    "# Process rest of grouped categorical features\n",
    "column_groups = {\n",
    "    \"category\": category_columns,\n",
    "    \"location\": location_columns,\n",
    "    \"eshop\": eshop_columns,\n",
    "    \"reputation\": reputation_columns,\n",
    "    \"shipping\": shipping_columns\n",
    "}\n",
    "\n",
    "column_groups_names = list(column_groups.keys())\n",
    "# Hashing encoding has been selected due to high cardinality\n",
    "# features.\n",
    "for group in column_groups_names:\n",
    "    data = HashingEncoder(\n",
    "        cols=column_groups[group],\n",
    "    ).fit_transform(X, y)\n",
    "    \n",
    "    new_names = {}\n",
    "    for loc in range(8):\n",
    "        new_names[\"col_\"+str(loc)] = group+\"_\"+str(loc)\n",
    "    \n",
    "    X = data.rename(columns = new_names)      "
   ]
  },
  {
   "cell_type": "code",
   "execution_count": 9,
   "metadata": {},
   "outputs": [],
   "source": [
    "# Hand-picked selection of features from the remaining categorical variables:\n",
    "# 1) buying_mode\n",
    "# 2) condition\n",
    "# 3) listing_type_id\n",
    "remaining_categorical = [\n",
    "    \"buying_mode\", \n",
    "    \"condition\", \n",
    "    \"listing_type_id\"\n",
    "]\n",
    "\n",
    "columns_to_eliminate = list(\n",
    "    set(retrieve_categorical(X)) \\\n",
    "    - set(remaining_categorical)\n",
    ")\n",
    "\n",
    "X = X.drop(columns_to_eliminate, axis=1) "
   ]
  },
  {
   "cell_type": "code",
   "execution_count": 10,
   "metadata": {},
   "outputs": [],
   "source": [
    "# Apply one hot encoding to the remaining categorical features\n",
    "# (low cardinality)\n",
    "for column in remaining_categorical:\n",
    "    aux = pd.get_dummies(X[column], prefix=column)\n",
    "    pd.concat([X, aux], axis=1)#\n",
    "    \n",
    "X = X.drop(remaining_categorical, axis=1)"
   ]
  },
  {
   "cell_type": "code",
   "execution_count": 11,
   "metadata": {},
   "outputs": [
    {
     "name": "stderr",
     "output_type": "stream",
     "text": [
      "C:\\Users\\tomas\\AppData\\Roaming\\Python\\Python37\\site-packages\\ipykernel_launcher.py:3: SettingWithCopyWarning: \n",
      "A value is trying to be set on a copy of a slice from a DataFrame\n",
      "\n",
      "See the caveats in the documentation: https://pandas.pydata.org/pandas-docs/stable/user_guide/indexing.html#returning-a-view-versus-a-copy\n",
      "  This is separate from the ipykernel package so we can avoid doing imports until\n"
     ]
    }
   ],
   "source": [
    "# Nulls imputation in original price\n",
    "for index in X.index:\n",
    "    if pd.isnull(X.original_price[index]): X.original_price[index] = X.price[index]"
   ]
  },
  {
   "cell_type": "code",
   "execution_count": 12,
   "metadata": {},
   "outputs": [],
   "source": [
    "# Nulls imputation in rest of features\n",
    "for column in X.columns:\n",
    "    if X[column].isnull().sum() > 0: X[column].fillna(X[column].mean(), inplace = True)"
   ]
  },
  {
   "cell_type": "code",
   "execution_count": 13,
   "metadata": {},
   "outputs": [],
   "source": [
    "# Define simple decision tree model to assess feature importance\n",
    "model = DecisionTreeRegressor()\n",
    "\n",
    "# Fit the model\n",
    "model.fit(X, y)\n",
    "\n",
    "# Importance coefficients\n",
    "importance_coef = model.feature_importances_\n",
    "\n",
    "# Sort features by importance value\n",
    "importance_df = pd.DataFrame(index=X.columns, data=importance_coef).reset_index() \n",
    "importance_df.columns = [\"feature\", \"importance\"]\n",
    "importance_df = importance_df.sort_values(\"importance\", ascending=False)"
   ]
  },
  {
   "cell_type": "code",
   "execution_count": 14,
   "metadata": {
    "collapsed": true
   },
   "outputs": [
    {
     "data": {
      "image/png": "[encoded data removed]",
      "text/plain": [
       "<Figure size 576x576 with 1 Axes>"
      ]
     },
     "metadata": {
      "needs_background": "light"
     },
     "output_type": "display_data"
    }
   ],
   "source": [
    "# Visualize importance coefficients\n",
    "chart = sns.catplot(\n",
    "    data=importance_df.iloc[0:25], kind=\"bar\",\n",
    "    x=\"feature\", y=\"importance\",\n",
    "    ci=\"sd\", palette=\"dark\", alpha=.6, height=8\n",
    ")\n",
    "chart.set_xticklabels(importance_df.feature.iloc[0:25], fontsize=14, rotation=90)\n",
    "chart.set(xlabel =\"Features\", ylabel = \"Importance\", title ='Importance by feature')\n",
    "\n",
    "plt.tight_layout()\n",
    "plt.savefig('../images/feature_importance.png')"
   ]
  },
  {
   "cell_type": "markdown",
   "metadata": {},
   "source": [
    "![title](../images/feature_importance.png)"
   ]
  },
  {
   "cell_type": "code",
   "execution_count": 15,
   "metadata": {},
   "outputs": [],
   "source": [
    "# Top 25 features by importance remain in dataset\n",
    "features = list(importance_df.iloc[0:25,0])\n",
    "X = X[features]\n",
    "\n",
    "# Rename columns\n",
    "X.columns = [\n",
    "    'initial_quantity',\n",
    "    'location_0',\n",
    "    'shipping_6',\n",
    "    'available_quantity',\n",
    "    'seller_cancellations_rate',\n",
    "    'seller_sales_completed',\n",
    "    'catalog_listing',\n",
    "    'seller_transactions_canceled',\n",
    "    'location_4',\n",
    "    'shipping_local_pick_up',\n",
    "    'original_price',\n",
    "    'base_price',\n",
    "    'health',\n",
    "    'seller_cancellations_value',\n",
    "    'seller_address',\n",
    "    'eshop_seller',\n",
    "    'seller_id',\n",
    "    'shipping_3',\n",
    "    'seller_transactions_completed',\n",
    "    'eshop_id',\n",
    "    'seller_transactions_total',\n",
    "    'eshop_1',\n",
    "    'order_backend',\n",
    "    'installments_amount',\n",
    "    'category_2'\n",
    "]"
   ]
  },
  {
   "cell_type": "code",
   "execution_count": 16,
   "metadata": {},
   "outputs": [],
   "source": [
    "# Feature engineering \n",
    "for i in range(1,6):\n",
    "    X[\"sales_potential_\"+str(i)] = (X.seller_cancellations_rate \\\n",
    "                                    * X.available_quantity)**i\n",
    "    \n",
    "    X[\"revenue_potential_\"+str(i)] = (X[\"sales_potential_\"+str(i)] \\\n",
    "                                      *(X.original_price + X.base_price))**i\n",
    "    \n",
    "    X[\"sales_rate_\"+str(i)] = (X.available_quantity/X.initial_quantity)**i\n",
    "    \n",
    "    X[\"influence_zone_\"+str(i)] = ((X.location_0+X.location_4) \\\n",
    "                                    *(X.shipping_6+X.shipping_3 + \\\n",
    "                                      X.shipping_local_pick_up))**i\n",
    "    \n",
    "    X[\"efectiveness_\"+str(i)] = (X.seller_transactions_completed \\\n",
    "                                 / X.seller_transactions_total)**i\n",
    "    \n",
    "    X[\"revenue_\"+str(i)] = (X.initial_quantity \\\n",
    "                            * (X.original_price+X.base_price))**i\n",
    "    \n",
    "    X[\"reputation_\"+str(i)] = ((X.initial_quantity*X.health \\\n",
    "                               * (X.original_price+X.base_price)) \\\n",
    "                                / X.seller_cancellations_rate)**i"
   ]
  },
  {
   "cell_type": "code",
   "execution_count": 17,
   "metadata": {},
   "outputs": [],
   "source": [
    "# Comparative metrics\n",
    "for column in [\"category_2\", \"location_0\"]:                         \n",
    "    aux = X.groupby(column, as_index=False).agg(\n",
    "        {\n",
    "            \"initial_quantity\": \"mean\", \n",
    "            \"available_quantity\": \"mean\",\n",
    "            \"original_price\": \"mean\",\n",
    "            \"health\": \"mean\",\n",
    "            \"seller_cancellations_rate\": \"mean\"\n",
    "        }\n",
    "    )\n",
    "    \n",
    "    X = pd.merge(\n",
    "        X,\n",
    "        aux,\n",
    "        left_on=column,\n",
    "        right_on=column,\n",
    "        suffixes=(\"\", \"_\"+column)\n",
    "    )\n",
    "    \n",
    "X[\"initial_quantity_category_2_comparative\"] = \\\n",
    "    X[\"initial_quantity\"] / X[\"initial_quantity_category_2\"]\n",
    "    \n",
    "X[\"available_quantity_category_2_comparative\"] = \\ \n",
    "    X[\"available_quantity\"] / X[\"available_quantity_category_2\"]\n",
    "    \n",
    "X[\"original_price_category_2_comparative\"] = \\\n",
    "    X[\"original_price\"] / X[\"original_price_category_2\"]\n",
    "    \n",
    "X[\"health_category_2_comparative\"] = \\\n",
    "    X[\"health\"] / X[\"health_category_2\"]\n",
    "\n",
    "X[\"seller_cancellations_rate_category_2_comparative\"] = \\\n",
    "    X[\"seller_cancellations_rate\"] / X[\"seller_cancellations_rate_category_2\"]\n",
    "\n",
    "X[\"initial_quantity_location_0_comparative\"] = \n",
    "    X[\"initial_quantity\"] / X[\"initial_quantity_location_0\"]\n",
    "    \n",
    "X[\"available_quantity_location_0_comparative\"] = \n",
    "    X[\"available_quantity\"] / X[\"available_quantity_location_0\"]\n",
    "    \n",
    "X[\"original_price_location_0_comparative\"] = \n",
    "    X[\"original_price\"] / X[\"original_price_location_0\"]\n",
    "    \n",
    "X[\"health_location_0_comparative\"] = \n",
    "    X[\"health\"] / X[\"health_location_0\"]\n",
    "    \n",
    "X[\"seller_cancellations_rate_location_0_comparative\"] = \n",
    "    X[\"seller_cancellations_rate\"] / X[\"seller_cancellations_rate_location_0\"]"
   ]
  },
  {
   "cell_type": "code",
   "execution_count": 18,
   "metadata": {},
   "outputs": [],
   "source": [
    "# Last null imputation in new columns\n",
    "for column in X.columns:\n",
    "    if X[column].isnull().sum() > 0: \n",
    "        X[column].fillna(X[column].mean(), inplace = True)"
   ]
  },
  {
   "cell_type": "code",
   "execution_count": 19,
   "metadata": {},
   "outputs": [],
   "source": [
    "items = pd.concat([X,y], axis=1)"
   ]
  },
  {
   "cell_type": "code",
   "execution_count": 20,
   "metadata": {},
   "outputs": [],
   "source": [
    "items.to_csv(\"../data/processed/items.txt\", index=False)"
   ]
  }
 ],
 "metadata": {
  "kernelspec": {
   "display_name": "meli",
   "language": "python",
   "name": "meli"
  },
  "language_info": {
   "codemirror_mode": {
    "name": "ipython",
    "version": 3
   },
   "file_extension": ".py",
   "mimetype": "text/x-python",
   "name": "python",
   "nbconvert_exporter": "python",
   "pygments_lexer": "ipython3",
   "version": "3.7.10"
  }
 },
 "nbformat": 4,
 "nbformat_minor": 4
}
