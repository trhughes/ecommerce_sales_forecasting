{
 "cells": [
  {
   "cell_type": "code",
   "execution_count": 60,
   "metadata": {},
   "outputs": [],
   "source": [
    "# Libraries\n",
    "import pandas as pd"
   ]
  },
  {
   "cell_type": "code",
   "execution_count": 61,
   "metadata": {},
   "outputs": [],
   "source": [
    "# Load datasets\n",
    "categories = pd.read_csv(\"../data/raw/categories.txt\")\n",
    "lower_categories = pd.read_csv(\"../data/raw/lower_categories.txt\")\n",
    "items_extended = pd.read_csv(\"../data/raw/items_extended.txt\")\n",
    "items = pd.read_csv(\"../data/raw/items.txt\")"
   ]
  },
  {
   "cell_type": "code",
   "execution_count": 62,
   "metadata": {},
   "outputs": [],
   "source": [
    "# Remove duplicates\n",
    "items = items.drop_duplicates(subset=\"id\")\n",
    "items_extended = items_extended.drop_duplicates(subset=\"id\")"
   ]
  },
  {
   "cell_type": "code",
   "execution_count": 63,
   "metadata": {},
   "outputs": [
    {
     "name": "stdout",
     "output_type": "stream",
     "text": [
      "(1486, 129)\n",
      "(1486, 92)\n"
     ]
    }
   ],
   "source": [
    "# Show shape of items datasets\n",
    "print(items.shape) \n",
    "print(items_extended.shape)"
   ]
  },
  {
   "cell_type": "code",
   "execution_count": 64,
   "metadata": {},
   "outputs": [],
   "source": [
    "# Uniform column naming of items datasets\n",
    "def uniform_column_names(dataframe):\n",
    "    new_column_names = [column.replace(\".\", \"_\") for column in list(dataframe.columns)]\n",
    "    dataframe.columns = new_column_names\n",
    "    return dataframe\n",
    "\n",
    "items = uniform_column_names(items)\n",
    "items_extended = uniform_column_names(items_extended)"
   ]
  },
  {
   "cell_type": "code",
   "execution_count": 65,
   "metadata": {},
   "outputs": [],
   "source": [
    "# Remove columns with high nulls percentage in items datasets\n",
    "def remove_low_info_columns(dataframe, nulls_percentage_tolerance=0.8):\n",
    "    valid_columns = list(dataframe.columns)\n",
    "    rows = dataframe.shape[0]\n",
    "    \n",
    "    for column in list(dataframe.columns):\n",
    "        if column != \"original_price\":\n",
    "            nulls = dataframe[column].isnull().sum()\n",
    "            nulls_percentage = nulls/rows\n",
    "            if nulls_percentage > nulls_percentage_tolerance: valid_columns.remove(column)\n",
    "    \n",
    "    result = dataframe[valid_columns]\n",
    "    \n",
    "    return result\n",
    "\n",
    "items = remove_low_info_columns(items)\n",
    "items_extended = remove_low_info_columns(items_extended)"
   ]
  },
  {
   "cell_type": "code",
   "execution_count": 66,
   "metadata": {},
   "outputs": [],
   "source": [
    "# Join items datasets\n",
    "items_merged = pd.merge(\n",
    "    items,\n",
    "    items_extended,\n",
    "    left_on=\"id\",\n",
    "    right_on=\"id\",\n",
    "    suffixes=(\"\",\"_OVERLAPPING\")\n",
    ")"
   ]
  },
  {
   "cell_type": "code",
   "execution_count": 67,
   "metadata": {},
   "outputs": [],
   "source": [
    "# Create parent category field in lower categories dataset\n",
    "def extract_parent(string):\n",
    "    return \"\".join([c for c in string[9:18] if c != \"'\" and c != \",\"])\n",
    "\n",
    "lower_categories[\"parent_category\"] = lower_categories.path_from_root. \\\n",
    "    apply(extract_parent)"
   ]
  },
  {
   "cell_type": "code",
   "execution_count": 68,
   "metadata": {},
   "outputs": [],
   "source": [
    "# Add category name and parent category id\n",
    "lower_categories = lower_categories[[\"id\", \"name\", \"parent_category\"]]\n",
    "\n",
    "items_merged = pd.merge(\n",
    "    items_merged,\n",
    "    lower_categories,\n",
    "    left_on=\"category_id\",\n",
    "    right_on=\"id\",\n",
    "    suffixes=(\"\",\"_OVERLAPPING\")\n",
    ")\n",
    "\n",
    "# Rename category name column\n",
    "items_merged = items_merged.rename(\n",
    "    columns = {\"name\": \"category_name\"}\n",
    ")"
   ]
  },
  {
   "cell_type": "code",
   "execution_count": 69,
   "metadata": {},
   "outputs": [],
   "source": [
    "# Add parent category name\n",
    "items_merged = pd.merge(\n",
    "    items_merged,\n",
    "    categories,\n",
    "    left_on=\"parent_category\",\n",
    "    right_on=\"id\",\n",
    "    suffixes=(\"\",\"_OVERLAPPING\")\n",
    ")\n",
    "\n",
    "# Rename parent category name column\n",
    "items_merged = items_merged.rename(\n",
    "    columns = {\"name\": \"parent_category_name\"}\n",
    ")"
   ]
  },
  {
   "cell_type": "code",
   "execution_count": 70,
   "metadata": {},
   "outputs": [],
   "source": [
    "# Remove overlapping columns\n",
    "valid_columns = [column for column in list(items_merged.columns) if not \"OVERLAPPING\" in column]\n",
    "items_merged = items_merged[valid_columns]"
   ]
  },
  {
   "cell_type": "code",
   "execution_count": 71,
   "metadata": {},
   "outputs": [],
   "source": [
    "# Persist preprocessed dataset\n",
    "items_merged.to_csv(\"../data/preprocessed/items_merged.txt\", index=False)"
   ]
  }
 ],
 "metadata": {
  "kernelspec": {
   "display_name": "meli",
   "language": "python",
   "name": "meli"
  },
  "language_info": {
   "codemirror_mode": {
    "name": "ipython",
    "version": 3
   },
   "file_extension": ".py",
   "mimetype": "text/x-python",
   "name": "python",
   "nbconvert_exporter": "python",
   "pygments_lexer": "ipython3",
   "version": "3.7.10"
  }
 },
 "nbformat": 4,
 "nbformat_minor": 4
}
