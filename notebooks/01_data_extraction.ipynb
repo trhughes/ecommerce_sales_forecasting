{
 "cells": [
  {
   "cell_type": "code",
   "execution_count": 101,
   "metadata": {},
   "outputs": [],
   "source": [
    "# Libraries\n",
    "import requests\n",
    "import json\n",
    "import pandas as pd"
   ]
  },
  {
   "cell_type": "code",
   "execution_count": 107,
   "metadata": {},
   "outputs": [],
   "source": [
    "# Dictionary of consumed APIs  \n",
    "API_DICT = {\n",
    "    \"categories\": \"https://api.mercadolibre.com/sites/MLA/categories\",\n",
    "    \"lower_categories\": \"https://api.mercadolibre.com/categories/\",\n",
    "    \"search\": \"https://api.mercadolibre.com/sites/MLA/search?category=\",  \n",
    "    \"items\": \"https://api.mercadolibre.com/items?ids=\"\n",
    "}"
   ]
  },
  {
   "cell_type": "code",
   "execution_count": 60,
   "metadata": {},
   "outputs": [],
   "source": [
    "# Useful functions\n",
    "def retrieve_data_from_api(url):\n",
    "    \"Returns a dictionary storing data from an API call\"\n",
    "    response = requests.get(url)\n",
    "    data = response.text\n",
    "    parsed = json.loads(data)\n",
    "    return parsed\n",
    "\n",
    "def flatten_and_append(dataframe, dictionary):\n",
    "    \"\"\"Flattens nested dictionary to achieve tabular format\n",
    "    and appends it as a row in the given dataframe.\n",
    "    \"\"\"\n",
    "    row = pd.json_normalize(dictionary)\n",
    "    dataframe = dataframe.append(row)\n",
    "    return dataframe    "
   ]
  },
  {
   "cell_type": "code",
   "execution_count": 61,
   "metadata": {},
   "outputs": [],
   "source": [
    "# Load categories\n",
    "categories_api = retrieve_data_from_api(APIs[\"categories\"])\n",
    "categories = pd.DataFrame.from_dict(categories_api)"
   ]
  },
  {
   "cell_type": "code",
   "execution_count": 82,
   "metadata": {},
   "outputs": [],
   "source": [
    "# Load listed items for all categories\n",
    "items = pd.DataFrame()\n",
    "\n",
    "for category in list(categories.id):\n",
    "    # Retrieve a list of items for each category\n",
    "    search_api = retrieve_data_from_api(APIs[\"search\"]+category)\n",
    "    for item_dict in search_api[\"results\"]:\n",
    "        items = flatten_and_append(items, item_dict)"
   ]
  },
  {
   "cell_type": "code",
   "execution_count": 95,
   "metadata": {},
   "outputs": [],
   "source": [
    "# Use items API to retrieve more features of the listed items\n",
    "items_extended = pd.DataFrame()\n",
    "\n",
    "for item in list(items.id):\n",
    "    items_api = retrieve_data_from_api(APIs[\"items\"]+item)\n",
    "    items_extended = flatten_and_append(items_extended, items_api[0][\"body\"])"
   ]
  },
  {
   "cell_type": "code",
   "execution_count": 108,
   "metadata": {},
   "outputs": [],
   "source": [
    "# Retrieve lower level categories for listed items\n",
    "lower_categories = pd.DataFrame()\n",
    "category_list = list(items.category_id.unique())\n",
    "\n",
    "for category in category_list:\n",
    "    lower_categories_api = retrieve_data_from_api(APIs[\"lower_categories\"]+category)\n",
    "    lower_categories = flatten_and_append(lower_categories, lower_categories_api)"
   ]
  },
  {
   "cell_type": "code",
   "execution_count": null,
   "metadata": {},
   "outputs": [],
   "source": [
    "# Persist raw datasets\n",
    "categories.to_csv(\"../data/raw/categories.txt\", index=False)\n",
    "lower_categories.to_csv(\"../data/raw/lower_categories.txt\", index=False)\n",
    "items.to_csv(\"../data/raw/items.txt\", index=False)\n",
    "items_extended.to_csv(\"../data/raw/items_extended.txt\", index=False)"
   ]
  }
 ],
 "metadata": {
  "kernelspec": {
   "display_name": "meli",
   "language": "python",
   "name": "meli"
  },
  "language_info": {
   "codemirror_mode": {
    "name": "ipython",
    "version": 3
   },
   "file_extension": ".py",
   "mimetype": "text/x-python",
   "name": "python",
   "nbconvert_exporter": "python",
   "pygments_lexer": "ipython3",
   "version": "3.7.10"
  }
 },
 "nbformat": 4,
 "nbformat_minor": 4
}
